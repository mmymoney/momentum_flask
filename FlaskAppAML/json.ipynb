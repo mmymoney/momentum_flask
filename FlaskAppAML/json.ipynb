{
 "cells": [
  {
   "cell_type": "code",
   "execution_count": 1,
   "metadata": {},
   "outputs": [],
   "source": [
    "import pandas as pd"
   ]
  },
  {
   "cell_type": "code",
   "execution_count": 14,
   "metadata": {},
   "outputs": [
    {
     "output_type": "execute_result",
     "data": {
      "text/plain": "                Open      High       Low     Close  Volume  T3_Vol_Diff  \\\nDate                                                                      \n1993-12-06  46.78125  46.93750  46.78125  46.87500   99500       279700   \n1993-12-07  46.87500  46.90625  46.78125  46.84375   88800       263200   \n1993-12-08  46.84375  46.84375  46.78125  46.84375  146700       159300   \n1993-12-09  46.84375  46.90625  46.62500  46.68750  416500      -317000   \n1993-12-10  46.71875  46.71875  46.50000  46.59375  412900      -324100   \n\n            T3_Close_Diff  T3_Open_Diff  T2_Vol_Diff  T2_Close_Diff  \\\nDate                                                                  \n1993-12-06       -0.46875      -0.18750       252500       -0.34375   \n1993-12-07       -0.31250      -0.37500       217200       -0.12500   \n1993-12-08       -0.12500      -0.34375       -47200        0.03125   \n1993-12-09        0.18750      -0.06250      -327700        0.15625   \n1993-12-10        0.25000       0.15625      -266200        0.25000   \n\n            T2_Open_Diff  T1_Vol_Diff  T1_Close_Diff  T1_Open_Diff  \\\nDate                                                                 \n1993-12-06      -0.28125       206500       -0.15625      -0.28125   \n1993-12-07      -0.37500        10700        0.03125      -0.09375   \n1993-12-08      -0.06250       -57900        0.00000       0.03125   \n1993-12-09       0.03125      -269800        0.15625       0.00000   \n1993-12-10       0.12500         3600        0.09375       0.12500   \n\n            Prior_Day_Vert_Delta_Ratio  Retracement_Signal  \\\nDate                                                         \n1993-12-06                    0.714286            0.600000   \n1993-12-07                    0.800000            0.500000   \n1993-12-08                    0.500000            1.000000   \n1993-12-09                    4.500000            0.222222   \n1993-12-10                    0.777778            0.428571   \n\n            Prior_Day_Derivative  T+1_Close  T+2_Close  T+3_Close  \nDate                                                               \n1993-12-06             -0.415572   46.84375   46.84375   46.68750  \n1993-12-07              0.327195   46.84375   46.68750   46.59375  \n1993-12-08              0.000000   46.68750   46.59375   46.87500  \n1993-12-09              0.000000   46.59375   46.87500   46.53125  \n1993-12-10             -0.717356   46.87500   46.53125   46.46875  ",
      "text/html": "<div>\n<style scoped>\n    .dataframe tbody tr th:only-of-type {\n        vertical-align: middle;\n    }\n\n    .dataframe tbody tr th {\n        vertical-align: top;\n    }\n\n    .dataframe thead th {\n        text-align: right;\n    }\n</style>\n<table border=\"1\" class=\"dataframe\">\n  <thead>\n    <tr style=\"text-align: right;\">\n      <th></th>\n      <th>Open</th>\n      <th>High</th>\n      <th>Low</th>\n      <th>Close</th>\n      <th>Volume</th>\n      <th>T3_Vol_Diff</th>\n      <th>T3_Close_Diff</th>\n      <th>T3_Open_Diff</th>\n      <th>T2_Vol_Diff</th>\n      <th>T2_Close_Diff</th>\n      <th>T2_Open_Diff</th>\n      <th>T1_Vol_Diff</th>\n      <th>T1_Close_Diff</th>\n      <th>T1_Open_Diff</th>\n      <th>Prior_Day_Vert_Delta_Ratio</th>\n      <th>Retracement_Signal</th>\n      <th>Prior_Day_Derivative</th>\n      <th>T+1_Close</th>\n      <th>T+2_Close</th>\n      <th>T+3_Close</th>\n    </tr>\n    <tr>\n      <th>Date</th>\n      <th></th>\n      <th></th>\n      <th></th>\n      <th></th>\n      <th></th>\n      <th></th>\n      <th></th>\n      <th></th>\n      <th></th>\n      <th></th>\n      <th></th>\n      <th></th>\n      <th></th>\n      <th></th>\n      <th></th>\n      <th></th>\n      <th></th>\n      <th></th>\n      <th></th>\n      <th></th>\n    </tr>\n  </thead>\n  <tbody>\n    <tr>\n      <td>1993-12-06</td>\n      <td>46.78125</td>\n      <td>46.93750</td>\n      <td>46.78125</td>\n      <td>46.87500</td>\n      <td>99500</td>\n      <td>279700</td>\n      <td>-0.46875</td>\n      <td>-0.18750</td>\n      <td>252500</td>\n      <td>-0.34375</td>\n      <td>-0.28125</td>\n      <td>206500</td>\n      <td>-0.15625</td>\n      <td>-0.28125</td>\n      <td>0.714286</td>\n      <td>0.600000</td>\n      <td>-0.415572</td>\n      <td>46.84375</td>\n      <td>46.84375</td>\n      <td>46.68750</td>\n    </tr>\n    <tr>\n      <td>1993-12-07</td>\n      <td>46.87500</td>\n      <td>46.90625</td>\n      <td>46.78125</td>\n      <td>46.84375</td>\n      <td>88800</td>\n      <td>263200</td>\n      <td>-0.31250</td>\n      <td>-0.37500</td>\n      <td>217200</td>\n      <td>-0.12500</td>\n      <td>-0.37500</td>\n      <td>10700</td>\n      <td>0.03125</td>\n      <td>-0.09375</td>\n      <td>0.800000</td>\n      <td>0.500000</td>\n      <td>0.327195</td>\n      <td>46.84375</td>\n      <td>46.68750</td>\n      <td>46.59375</td>\n    </tr>\n    <tr>\n      <td>1993-12-08</td>\n      <td>46.84375</td>\n      <td>46.84375</td>\n      <td>46.78125</td>\n      <td>46.84375</td>\n      <td>146700</td>\n      <td>159300</td>\n      <td>-0.12500</td>\n      <td>-0.34375</td>\n      <td>-47200</td>\n      <td>0.03125</td>\n      <td>-0.06250</td>\n      <td>-57900</td>\n      <td>0.00000</td>\n      <td>0.03125</td>\n      <td>0.500000</td>\n      <td>1.000000</td>\n      <td>0.000000</td>\n      <td>46.68750</td>\n      <td>46.59375</td>\n      <td>46.87500</td>\n    </tr>\n    <tr>\n      <td>1993-12-09</td>\n      <td>46.84375</td>\n      <td>46.90625</td>\n      <td>46.62500</td>\n      <td>46.68750</td>\n      <td>416500</td>\n      <td>-317000</td>\n      <td>0.18750</td>\n      <td>-0.06250</td>\n      <td>-327700</td>\n      <td>0.15625</td>\n      <td>0.03125</td>\n      <td>-269800</td>\n      <td>0.15625</td>\n      <td>0.00000</td>\n      <td>4.500000</td>\n      <td>0.222222</td>\n      <td>0.000000</td>\n      <td>46.59375</td>\n      <td>46.87500</td>\n      <td>46.53125</td>\n    </tr>\n    <tr>\n      <td>1993-12-10</td>\n      <td>46.71875</td>\n      <td>46.71875</td>\n      <td>46.50000</td>\n      <td>46.59375</td>\n      <td>412900</td>\n      <td>-324100</td>\n      <td>0.25000</td>\n      <td>0.15625</td>\n      <td>-266200</td>\n      <td>0.25000</td>\n      <td>0.12500</td>\n      <td>3600</td>\n      <td>0.09375</td>\n      <td>0.12500</td>\n      <td>0.777778</td>\n      <td>0.428571</td>\n      <td>-0.717356</td>\n      <td>46.87500</td>\n      <td>46.53125</td>\n      <td>46.46875</td>\n    </tr>\n  </tbody>\n</table>\n</div>"
     },
     "metadata": {},
     "execution_count": 14
    }
   ],
   "source": [
    "file = \"./momentum_and_features.csv\"\n",
    "df = pd.read_csv(file)\n",
    "df = df.set_index(\"Date\")\n",
    "del df['Unnamed: 0']\n",
    "df.head()"
   ]
  },
  {
   "cell_type": "code",
   "execution_count": 15,
   "metadata": {},
   "outputs": [],
   "source": [
    "df.to_json(\"momentum_and_features.json\")"
   ]
  },
  {
   "cell_type": "code",
   "execution_count": null,
   "metadata": {},
   "outputs": [],
   "source": []
  }
 ],
 "metadata": {
  "language_info": {
   "codemirror_mode": {
    "name": "ipython",
    "version": 3
   },
   "file_extension": ".py",
   "mimetype": "text/x-python",
   "name": "python",
   "nbconvert_exporter": "python",
   "pygments_lexer": "ipython3",
   "version": "3.7.4-final"
  },
  "orig_nbformat": 2,
  "kernelspec": {
   "name": "python37464bitbaseconda3bd7a1ace3da4e6e9e0f2b78e3af24c7",
   "display_name": "Python 3.7.4 64-bit ('base': conda)"
  }
 },
 "nbformat": 4,
 "nbformat_minor": 2
}